{
 "cells": [
  {
   "cell_type": "code",
   "execution_count": 26,
   "metadata": {},
   "outputs": [],
   "source": [
    "import os\n",
    "import shutil\n",
    "\n",
    "dirs = [\"benchpress\", \"hamlib\", \"qaoa\"]\n",
    "tool = \"bqskitft-diag\"\n",
    "for d in dirs:\n",
    "    os.makedirs(f\"{tool}/{d}\", exist_ok=True)"
   ]
  },
  {
   "cell_type": "code",
   "execution_count": null,
   "metadata": {},
   "outputs": [],
   "source": [
    "hamlib_names = [\n",
    "    f.replace(\".qasm\", \"\") for f in os.listdir(\"../qasm/hamlib\") if f.endswith(\".qasm\")\n",
    "]"
   ]
  },
  {
   "cell_type": "code",
   "execution_count": null,
   "metadata": {},
   "outputs": [],
   "source": [
    "results_dir = \"bqskitft/bqskitft-results-11-22\"\n",
    "for d in os.listdir(results_dir):\n",
    "    benchmark = (\n",
    "        d.replace(\"_transpiled_u3\", \"\")\n",
    "        .replace(\"_transpiled_rz\", \"\")\n",
    "        .replace(\"results_\", \"\")\n",
    "    )\n",
    "    if \"qaoa\" in d:\n",
    "        for f in os.listdir(f\"{results_dir}/{d}\"):\n",
    "            if f.endswith(\".qasm\") or int(f.replace(\".json\", \"\").split(\"_\")[-1]) < 727:\n",
    "                shutil.copy(\n",
    "                    f\"{results_dir}/{d}/{f}\",\n",
    "                    f\"{tool}/qaoa/{f}\",\n",
    "                )\n",
    "    elif benchmark in hamlib_names:\n",
    "        for f in os.listdir(f\"{results_dir}/{d}\"):\n",
    "            if f.endswith(\".qasm\") or int(f.replace(\".json\", \"\").split(\"_\")[-1]) < 727:\n",
    "                shutil.copy(\n",
    "                    f\"{results_dir}/{d}/{f}\",\n",
    "                    f\"{tool}/hamlib/{f}\",\n",
    "                )\n",
    "    else:\n",
    "        for f in os.listdir(f\"{results_dir}/{d}\"):\n",
    "            if f.endswith(\".qasm\") or int(f.replace(\".json\", \"\").split(\"_\")[-1]) < 727:\n",
    "                shutil.copy(\n",
    "                    f\"{results_dir}/{d}/{f}\",\n",
    "                    f\"{tool}/benchpress/{f}\",\n",
    "                )"
   ]
  },
  {
   "cell_type": "code",
   "execution_count": null,
   "metadata": {},
   "outputs": [],
   "source": [
    "for d in os.listdir(\"synthetiq/synthetiq-circ-results-11-21\"):\n",
    "    if \"qaoa\" in d:\n",
    "        for f in os.listdir(f\"synthetiq/synthetiq-circ-results-11-21/{d}\"):\n",
    "            if f.endswith(\".qasm\") or int(f.replace(\".json\", \"\").split(\"_\")[-1]) >= 727:\n",
    "                shutil.copy(\n",
    "                    f\"synthetiq/synthetiq-circ-results-11-21/{d}/{f}\",\n",
    "                    f\"synthetiq/qaoa/{f}\",\n",
    "                )"
   ]
  },
  {
   "cell_type": "code",
   "execution_count": 7,
   "metadata": {},
   "outputs": [],
   "source": [
    "for f in os.listdir(\"synthetiq/qaoa\"):\n",
    "    if f.endswith(\".qasm\"):\n",
    "        new_name = f.replace(\"_transpiled_u3\", \"\").replace(\"_transpiled_rz\", \"\")\n",
    "        new_name = \"_\".join(new_name.split(\"_\")[3:])\n",
    "        shutil.copy(f\"synthetiq/qaoa/{f}\", f\"synthetiq/qaoa/{new_name}\")"
   ]
  },
  {
   "cell_type": "code",
   "execution_count": null,
   "metadata": {},
   "outputs": [],
   "source": [
    "import json\n",
    "\n",
    "for f in os.listdir(\"synthetiq/qaoa\"):\n",
    "    if f.endswith(\".json\"):\n",
    "        data = json.load(open(f\"synthetiq/qaoa/{f}\"))\n",
    "        new_name = (\n",
    "            data[\"benchmark_id\"]\n",
    "            .replace(\"_transpiled_u3\", \"\")\n",
    "            .replace(\"_transpiled_rz\", \"\")\n",
    "        )\n",
    "        shutil.copy(f\"synthetiq/qaoa/{f}\", f\"synthetiq/qaoa/{new_name}.json\")"
   ]
  },
  {
   "cell_type": "code",
   "execution_count": null,
   "metadata": {},
   "outputs": [],
   "source": [
    "hamlib_names = [\n",
    "    f.replace(\".qasm\", \"\") for f in os.listdir(\"../qasm/hamlib\") if f.endswith(\".qasm\")\n",
    "]\n",
    "\n",
    "for d in os.listdir(\"synthetiq/synthetiq-circ-results-11-21\"):\n",
    "    benchmark = (\n",
    "        d.replace(\"_transpiled_u3\", \"\")\n",
    "        .replace(\"_transpiled_rz\", \"\")\n",
    "        .replace(\"results_\", \"\")\n",
    "    )\n",
    "    if benchmark in hamlib_names:\n",
    "        for f in os.listdir(f\"synthetiq/synthetiq-circ-results-11-21/{d}\"):\n",
    "            if f.endswith(\".qasm\") or int(f.replace(\".json\", \"\").split(\"_\")[-1]) >= 727:\n",
    "                shutil.copy(\n",
    "                    f\"synthetiq/synthetiq-circ-results-11-21/{d}/{f}\",\n",
    "                    f\"synthetiq/hamlib/{f}\",\n",
    "                )\n",
    "    elif \"qaoa\" not in d:\n",
    "        for f in os.listdir(f\"synthetiq/synthetiq-circ-results-11-21/{d}\"):\n",
    "            if f.endswith(\".qasm\") or int(f.replace(\".json\", \"\").split(\"_\")[-1]) >= 727:\n",
    "                shutil.copy(\n",
    "                    f\"synthetiq/synthetiq-circ-results-11-21/{d}/{f}\",\n",
    "                    f\"synthetiq/benchpress/{f}\",\n",
    "                )"
   ]
  },
  {
   "cell_type": "code",
   "execution_count": null,
   "metadata": {},
   "outputs": [],
   "source": [
    "for d in dirs:\n",
    "    for f in os.listdir(f\"{tool}/{d}\"):\n",
    "        if f.endswith(\".qasm\"):\n",
    "            new_name = f.replace(\"_transpiled_u3\", \"\").replace(\"_transpiled_rz\", \"\")\n",
    "            new_name = \"_\".join(new_name.split(\"_\")[3:])\n",
    "            shutil.copy(f\"{tool}/{d}/{f}\", f\"{tool}/{d}/{new_name}\")\n",
    "\n",
    "    for f in os.listdir(f\"{tool}/{d}\"):\n",
    "        if f.endswith(\".json\"):\n",
    "            data = json.load(open(f\"{tool}/{d}/{f}\"))\n",
    "            new_name = (\n",
    "                data[\"benchmark_id\"]\n",
    "                .replace(\"_transpiled_u3\", \"\")\n",
    "                .replace(\"_transpiled_rz\", \"\")\n",
    "            )\n",
    "            shutil.copy(f\"{tool}/{d}/{f}\", f\"{tool}/{d}/{new_name}.json\")"
   ]
  }
 ],
 "metadata": {
  "kernelspec": {
   "display_name": "tsynth",
   "language": "python",
   "name": "python3"
  },
  "language_info": {
   "codemirror_mode": {
    "name": "ipython",
    "version": 3
   },
   "file_extension": ".py",
   "mimetype": "text/x-python",
   "name": "python",
   "nbconvert_exporter": "python",
   "pygments_lexer": "ipython3",
   "version": "3.12.4"
  }
 },
 "nbformat": 4,
 "nbformat_minor": 2
}
